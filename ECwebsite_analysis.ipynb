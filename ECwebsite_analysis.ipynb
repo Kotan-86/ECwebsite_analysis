{
 "cells": [
  {
   "cell_type": "markdown",
   "id": "9d449bce-ce05-4dc1-8c2b-9526d41d66b8",
   "metadata": {},
   "source": [
    "<span style=\"font-size: x-large;\">**ノック1：データを読み込んでみよう**</span>"
   ]
  },
  {
   "cell_type": "code",
   "execution_count": 1,
   "id": "5c9d79d8-ffd9-47fa-8a4a-a132da21f946",
   "metadata": {},
   "outputs": [],
   "source": [
    "import pandas as pd"
   ]
  },
  {
   "cell_type": "code",
   "execution_count": 2,
   "id": "2c385533-f055-427c-8c82-61325bc289ee",
   "metadata": {},
   "outputs": [
    {
     "data": {
      "text/plain": [
       "<bound method NDFrame.head of      customer_id customer_name    registration_date customer_name_kana  \\\n",
       "0       IK152942        平田 裕次郎  2019-01-01 00:25:33          ひらた ゆうじろう   \n",
       "1       TS808488         田村 詩織  2019-01-01 01:13:45            たむら しおり   \n",
       "2       AS834628         久野 由樹  2019-01-01 02:00:14             ひさの ゆき   \n",
       "3       AS345469          鶴岡 薫  2019-01-01 04:48:22           つるおか かおる   \n",
       "4       GD892565         大内 高史  2019-01-01 04:54:51           おおうち たかし   \n",
       "...          ...           ...                  ...                ...   \n",
       "4995    AS677229         平山 莉沙  2019-07-31 16:52:26            ひらやま りさ   \n",
       "4996    HD758694        中原 まひる  2019-07-31 19:09:26           なかはら まひる   \n",
       "4997    PL538517         田端 由宇  2019-07-31 19:30:05             たばた ゆう   \n",
       "4998    OA955088         瀬戸内 光  2019-07-31 22:32:08           せとうち ひかる   \n",
       "4999    HI349563         堀井 寛治  2019-07-31 22:49:49            ほりい かんじ   \n",
       "\n",
       "                            email gender  age       birth pref  \n",
       "0     hirata_yuujirou@example.com      M   29   1990/6/10  石川県  \n",
       "1       tamura_shiori@example.com      F   33   1986/5/20  東京都  \n",
       "2         hisano_yuki@example.com      F   63    1956/1/2  茨城県  \n",
       "3      tsuruoka_kaoru@example.com      M   74   1945/3/25  東京都  \n",
       "4      oouchi_takashi@example.com      M   54    1965/8/5  千葉県  \n",
       "...                           ...    ...  ...         ...  ...  \n",
       "4995    hirayama_risa@example.com      F   77  1941/10/17  愛知県  \n",
       "4996  nakahara_mahiru@example.com      F   27  1991/11/13  茨城県  \n",
       "4997      tabata_yuu1@example.com      F   73  1945/12/28  愛知県  \n",
       "4998  setouchi_hikaru@example.com      F   75    1944/4/9  宮城県  \n",
       "4999      horii_kanji@example.com      M   21    1998/2/6  広島県  \n",
       "\n",
       "[5000 rows x 9 columns]>"
      ]
     },
     "execution_count": 2,
     "metadata": {},
     "output_type": "execute_result"
    }
   ],
   "source": [
    "customer_master = pd.read_csv('../../data/第1章/customer_master.csv')\n",
    "customer_master.head"
   ]
  },
  {
   "cell_type": "code",
   "execution_count": 3,
   "id": "f6f3a4fd-1e02-437a-bb6b-ad252158bc3a",
   "metadata": {},
   "outputs": [
    {
     "data": {
      "text/plain": [
       "<bound method NDFrame.head of   item_id item_name  item_price\n",
       "0    S001      PC-A       50000\n",
       "1    S002      PC-B       85000\n",
       "2    S003      PC-C      120000\n",
       "3    S004      PC-D      180000\n",
       "4    S005      PC-E      210000>"
      ]
     },
     "execution_count": 3,
     "metadata": {},
     "output_type": "execute_result"
    }
   ],
   "source": [
    "item_master = pd.read_csv('../../data/第1章/item_master.csv')\n",
    "item_master.head"
   ]
  },
  {
   "cell_type": "code",
   "execution_count": 4,
   "id": "dbad05f2-978b-4bd8-86c2-4d4c8ddfa25a",
   "metadata": {},
   "outputs": [
    {
     "data": {
      "text/plain": [
       "<bound method NDFrame.head of      transaction_id   price         payment_date customer_id\n",
       "0       T0000000113  210000  2019-02-01 01:36:57    PL563502\n",
       "1       T0000000114   50000  2019-02-01 01:37:23    HD678019\n",
       "2       T0000000115  120000  2019-02-01 02:34:19    HD298120\n",
       "3       T0000000116  210000  2019-02-01 02:47:23    IK452215\n",
       "4       T0000000117  170000  2019-02-01 04:33:46    PL542865\n",
       "...             ...     ...                  ...         ...\n",
       "4995    T0000005108  210000  2019-06-15 02:42:41    HD315748\n",
       "4996    T0000005109  150000  2019-06-15 03:36:16    HI215420\n",
       "4997    T0000005110   50000  2019-06-15 03:44:06    IK880102\n",
       "4998    T0000005111  210000  2019-06-15 04:14:06    IK074758\n",
       "4999    T0000005112   50000  2019-06-15 04:42:38    HD444151\n",
       "\n",
       "[5000 rows x 4 columns]>"
      ]
     },
     "execution_count": 4,
     "metadata": {},
     "output_type": "execute_result"
    }
   ],
   "source": [
    "transaction_1 = pd.read_csv('../../data/第1章/transaction_1.csv')\n",
    "transaction_1.head"
   ]
  },
  {
   "cell_type": "code",
   "execution_count": 5,
   "id": "a9dca272-e737-4bf8-a617-e2774b91fed1",
   "metadata": {},
   "outputs": [
    {
     "data": {
      "text/plain": [
       "<bound method NDFrame.head of       detail_id transaction_id item_id  quantity\n",
       "0             0    T0000000113    S005         1\n",
       "1             1    T0000000114    S001         1\n",
       "2             2    T0000000115    S003         1\n",
       "3             3    T0000000116    S005         1\n",
       "4             4    T0000000117    S002         2\n",
       "...         ...            ...     ...       ...\n",
       "4995       4995    T0000004865    S003         1\n",
       "4996       4996    T0000004866    S001         3\n",
       "4997       4997    T0000004867    S001         3\n",
       "4998       4998    T0000004868    S005         1\n",
       "4999       4999    T0000004869    S003         1\n",
       "\n",
       "[5000 rows x 4 columns]>"
      ]
     },
     "execution_count": 5,
     "metadata": {},
     "output_type": "execute_result"
    }
   ],
   "source": [
    "transaction_detail_1 = pd.read_csv('../../data/第1章/transaction_detail_1.csv')\n",
    "transaction_detail_1.head"
   ]
  },
  {
   "cell_type": "code",
   "execution_count": 6,
   "id": "9daa6f92-bdec-4f68-bac0-95fafeb723a7",
   "metadata": {},
   "outputs": [
    {
     "data": {
      "text/plain": [
       "<bound method NDFrame.head of      transaction_id   price         payment_date customer_id\n",
       "0       T0000005113  295000  2019-06-15 07:20:27    TS169261\n",
       "1       T0000005114   50000  2019-06-15 07:35:47    HI599892\n",
       "2       T0000005115   85000  2019-06-15 07:56:36    HI421757\n",
       "3       T0000005116   50000  2019-06-15 08:40:55    OA386378\n",
       "4       T0000005117  120000  2019-06-15 08:44:23    TS506913\n",
       "...             ...     ...                  ...         ...\n",
       "1781    T0000006894  180000  2019-07-31 21:20:44    HI400734\n",
       "1782    T0000006895   85000  2019-07-31 21:52:48    AS339451\n",
       "1783    T0000006896  100000  2019-07-31 23:35:25    OA027325\n",
       "1784    T0000006897   85000  2019-07-31 23:39:35    TS624738\n",
       "1785    T0000006898   85000  2019-07-31 23:41:38    AS834214\n",
       "\n",
       "[1786 rows x 4 columns]>"
      ]
     },
     "execution_count": 6,
     "metadata": {},
     "output_type": "execute_result"
    }
   ],
   "source": [
    "transaction_2 = pd.read_csv('../../data/第1章/transaction_2.csv')\n",
    "transaction_2.head"
   ]
  },
  {
   "cell_type": "markdown",
   "id": "7dbf1017-3576-418e-a504-f6cc49de8ac4",
   "metadata": {},
   "source": [
    "<span style=\"font-size: x-large;\">**ノック2：データをユニオンしてみよう**</span>"
   ]
  },
  {
   "cell_type": "code",
   "execution_count": 7,
   "id": "ab402147-9605-4603-9095-8c37a9643bb9",
   "metadata": {},
   "outputs": [
    {
     "data": {
      "text/plain": [
       "<bound method NDFrame.head of      transaction_id   price         payment_date customer_id\n",
       "0       T0000000113  210000  2019-02-01 01:36:57    PL563502\n",
       "1       T0000000114   50000  2019-02-01 01:37:23    HD678019\n",
       "2       T0000000115  120000  2019-02-01 02:34:19    HD298120\n",
       "3       T0000000116  210000  2019-02-01 02:47:23    IK452215\n",
       "4       T0000000117  170000  2019-02-01 04:33:46    PL542865\n",
       "...             ...     ...                  ...         ...\n",
       "6781    T0000006894  180000  2019-07-31 21:20:44    HI400734\n",
       "6782    T0000006895   85000  2019-07-31 21:52:48    AS339451\n",
       "6783    T0000006896  100000  2019-07-31 23:35:25    OA027325\n",
       "6784    T0000006897   85000  2019-07-31 23:39:35    TS624738\n",
       "6785    T0000006898   85000  2019-07-31 23:41:38    AS834214\n",
       "\n",
       "[6786 rows x 4 columns]>"
      ]
     },
     "execution_count": 7,
     "metadata": {},
     "output_type": "execute_result"
    }
   ],
   "source": [
    "transaction = pd.concat([transaction_1, transaction_2], ignore_index=True)\n",
    "transaction.head"
   ]
  },
  {
   "cell_type": "code",
   "execution_count": 8,
   "id": "97cd18c7-6d97-409e-a586-3af824541e69",
   "metadata": {},
   "outputs": [
    {
     "name": "stdout",
     "output_type": "stream",
     "text": [
      "5000\n",
      "1786\n",
      "6786\n"
     ]
    }
   ],
   "source": [
    "print(len(transaction_1))\n",
    "print(len(transaction_2))\n",
    "print(len(transaction))"
   ]
  },
  {
   "cell_type": "code",
   "execution_count": 9,
   "id": "166973f3-33e6-4712-875a-0bc2778f2f72",
   "metadata": {},
   "outputs": [
    {
     "data": {
      "text/plain": [
       "<bound method NDFrame.head of       detail_id transaction_id item_id  quantity\n",
       "0          5000    T0000004870    S002         3\n",
       "1          5001    T0000004871    S003         1\n",
       "2          5002    T0000004872    S001         2\n",
       "3          5003    T0000004873    S004         1\n",
       "4          5004    T0000004874    S003         2\n",
       "...         ...            ...     ...       ...\n",
       "2139       7139    T0000006894    S004         1\n",
       "2140       7140    T0000006895    S002         1\n",
       "2141       7141    T0000006896    S001         2\n",
       "2142       7142    T0000006897    S002         1\n",
       "2143       7143    T0000006898    S002         1\n",
       "\n",
       "[2144 rows x 4 columns]>"
      ]
     },
     "execution_count": 9,
     "metadata": {},
     "output_type": "execute_result"
    }
   ],
   "source": [
    "transaction_detail_2 = pd.read_csv('../../data/第1章/transaction_detail_2.csv')\n",
    "transaction_detail_2.head"
   ]
  },
  {
   "cell_type": "code",
   "execution_count": 10,
   "id": "62b4bbaf-94e0-44e6-b9a0-3b666a320470",
   "metadata": {},
   "outputs": [
    {
     "data": {
      "text/plain": [
       "<bound method NDFrame.head of       detail_id transaction_id item_id  quantity\n",
       "0             0    T0000000113    S005         1\n",
       "1             1    T0000000114    S001         1\n",
       "2             2    T0000000115    S003         1\n",
       "3             3    T0000000116    S005         1\n",
       "4             4    T0000000117    S002         2\n",
       "...         ...            ...     ...       ...\n",
       "7139       7139    T0000006894    S004         1\n",
       "7140       7140    T0000006895    S002         1\n",
       "7141       7141    T0000006896    S001         2\n",
       "7142       7142    T0000006897    S002         1\n",
       "7143       7143    T0000006898    S002         1\n",
       "\n",
       "[7144 rows x 4 columns]>"
      ]
     },
     "execution_count": 10,
     "metadata": {},
     "output_type": "execute_result"
    }
   ],
   "source": [
    "transaction_detail = pd.concat([transaction_detail_1, transaction_detail_2], ignore_index=True)\n",
    "transaction_detail.head"
   ]
  },
  {
   "cell_type": "code",
   "execution_count": 11,
   "id": "86dcb100-e59d-4f56-8b5f-07d2367b5844",
   "metadata": {},
   "outputs": [
    {
     "name": "stdout",
     "output_type": "stream",
     "text": [
      "5000\n",
      "2144\n",
      "7144\n"
     ]
    }
   ],
   "source": [
    "print(len(transaction_detail_1))\n",
    "print(len(transaction_detail_2))\n",
    "print(len(transaction_detail))"
   ]
  },
  {
   "cell_type": "markdown",
   "id": "73870d88-e573-46af-9a76-b80f478c0b94",
   "metadata": {},
   "source": [
    "<span style=\"font-size: x-large;\">**ノック3：売上データ同士をジョインしてみよう**</span>"
   ]
  },
  {
   "cell_type": "code",
   "execution_count": 12,
   "id": "83898dc5-0282-4097-993e-b752460ad9fb",
   "metadata": {},
   "outputs": [
    {
     "data": {
      "text/plain": [
       "<bound method NDFrame.head of       detail_id transaction_id item_id  quantity         payment_date  \\\n",
       "0             0    T0000000113    S005         1  2019-02-01 01:36:57   \n",
       "1             1    T0000000114    S001         1  2019-02-01 01:37:23   \n",
       "2             2    T0000000115    S003         1  2019-02-01 02:34:19   \n",
       "3             3    T0000000116    S005         1  2019-02-01 02:47:23   \n",
       "4             4    T0000000117    S002         2  2019-02-01 04:33:46   \n",
       "...         ...            ...     ...       ...                  ...   \n",
       "7139       7139    T0000006894    S004         1  2019-07-31 21:20:44   \n",
       "7140       7140    T0000006895    S002         1  2019-07-31 21:52:48   \n",
       "7141       7141    T0000006896    S001         2  2019-07-31 23:35:25   \n",
       "7142       7142    T0000006897    S002         1  2019-07-31 23:39:35   \n",
       "7143       7143    T0000006898    S002         1  2019-07-31 23:41:38   \n",
       "\n",
       "     customer_id  \n",
       "0       PL563502  \n",
       "1       HD678019  \n",
       "2       HD298120  \n",
       "3       IK452215  \n",
       "4       PL542865  \n",
       "...          ...  \n",
       "7139    HI400734  \n",
       "7140    AS339451  \n",
       "7141    OA027325  \n",
       "7142    TS624738  \n",
       "7143    AS834214  \n",
       "\n",
       "[7144 rows x 6 columns]>"
      ]
     },
     "execution_count": 12,
     "metadata": {},
     "output_type": "execute_result"
    }
   ],
   "source": [
    "join_data = pd.merge(transaction_detail, transaction[[\"transaction_id\", \"payment_date\", \"customer_id\"]], on=\"transaction_id\", how=\"left\")\n",
    "join_data.head"
   ]
  },
  {
   "cell_type": "code",
   "execution_count": 13,
   "id": "7fe79dd4-5451-4574-a510-039351517586",
   "metadata": {},
   "outputs": [
    {
     "data": {
      "text/plain": [
       "<bound method NDFrame.head of       detail_id transaction_id item_id  quantity         payment_date  \\\n",
       "0             0    T0000000113    S005         1  2019-02-01 01:36:57   \n",
       "1             1    T0000000114    S001         1  2019-02-01 01:37:23   \n",
       "2             2    T0000000115    S003         1  2019-02-01 02:34:19   \n",
       "3             3    T0000000116    S005         1  2019-02-01 02:47:23   \n",
       "4             4    T0000000117    S002         2  2019-02-01 04:33:46   \n",
       "...         ...            ...     ...       ...                  ...   \n",
       "7139       7139    T0000006894    S004         1  2019-07-31 21:20:44   \n",
       "7140       7140    T0000006895    S002         1  2019-07-31 21:52:48   \n",
       "7141       7141    T0000006896    S001         2  2019-07-31 23:35:25   \n",
       "7142       7142    T0000006897    S002         1  2019-07-31 23:39:35   \n",
       "7143       7143    T0000006898    S002         1  2019-07-31 23:41:38   \n",
       "\n",
       "     customer_id customer_name    registration_date customer_name_kana  \\\n",
       "0       PL563502         井本 芳正  2019-01-07 14:34:35           いもと よしまさ   \n",
       "1       HD678019         三船 六郎  2019-01-27 18:00:11           みふね ろくろう   \n",
       "2       HD298120         山根 小雁  2019-01-11 08:16:02            やまね こがん   \n",
       "3       IK452215         池田 菜摘  2019-01-10 05:07:38            いけだ なつみ   \n",
       "4       PL542865         栗田 憲一  2019-01-25 06:46:05           くりた けんいち   \n",
       "...          ...           ...                  ...                ...   \n",
       "7139    HI400734          宍戸 明  2019-01-04 13:24:40            ししど あきら   \n",
       "7140    AS339451         相原 みき  2019-02-11 19:34:02            あいはら みき   \n",
       "7141    OA027325         松田 早紀  2019-04-17 09:23:50             まつだ さき   \n",
       "7142    TS624738         進藤 正敏  2019-02-20 18:15:56          しんどう まさとし   \n",
       "7143    AS834214         田原 結子  2019-04-07 03:20:19            たはら ゆうこ   \n",
       "\n",
       "                               email gender  age       birth pref item_name  \\\n",
       "0        imoto_yoshimasa@example.com      M   30   1989/7/15  熊本県      PC-E   \n",
       "1         mifune_rokurou@example.com      M   73  1945/11/29  京都府      PC-A   \n",
       "2           yamane_kogan@example.com      M   42   1977/5/17  茨城県      PC-C   \n",
       "3          ikeda_natsumi@example.com      F   47   1972/3/17  兵庫県      PC-E   \n",
       "4         kurita_kenichi@example.com      M   74  1944/12/17  長崎県      PC-B   \n",
       "...                              ...    ...  ...         ...  ...       ...   \n",
       "7139      shishido_akira@example.com      M   64   1955/1/13  福井県      PC-D   \n",
       "7140         aihara_miki@example.com      F   74    1945/2/3  北海道      PC-B   \n",
       "7141        matsuda_saki@example.com      F   40   1979/5/25  福島県      PC-A   \n",
       "7142  shinndou_masatoshi@example.com      M   56   1963/2/21  東京都      PC-B   \n",
       "7143        tahara_yuuko@example.com      F   74  1944/12/18  愛知県      PC-B   \n",
       "\n",
       "      item_price  \n",
       "0         210000  \n",
       "1          50000  \n",
       "2         120000  \n",
       "3         210000  \n",
       "4          85000  \n",
       "...          ...  \n",
       "7139      180000  \n",
       "7140       85000  \n",
       "7141       50000  \n",
       "7142       85000  \n",
       "7143       85000  \n",
       "\n",
       "[7144 rows x 16 columns]>"
      ]
     },
     "execution_count": 13,
     "metadata": {},
     "output_type": "execute_result"
    }
   ],
   "source": [
    "join_data = pd.merge(join_data, customer_master, on=\"customer_id\", how=\"left\")\n",
    "join_data = pd.merge(join_data, item_master, on=\"item_id\", how=\"left\")\n",
    "join_data.head"
   ]
  },
  {
   "cell_type": "markdown",
   "id": "5ef98e64-a497-4349-b84a-1b6cc18c5990",
   "metadata": {},
   "source": [
    "<span style=\"font-size: x-large;\">**ノック4：マスターデータをしてみよう**</span>"
   ]
  },
  {
   "cell_type": "code",
   "execution_count": null,
   "id": "113d1937-32a8-40b5-8462-e77707773848",
   "metadata": {},
   "outputs": [],
   "source": []
  },
  {
   "cell_type": "markdown",
   "id": "6330b5c7-844c-4c96-935a-b470056198e3",
   "metadata": {},
   "source": [
    "<span style=\"font-size: x-large;\">**ノック5：必要なデータ列を作ろう**</span>"
   ]
  },
  {
   "cell_type": "code",
   "execution_count": null,
   "id": "906d8a8d-a23d-4f45-a20c-6b7666fac98f",
   "metadata": {},
   "outputs": [],
   "source": []
  },
  {
   "cell_type": "markdown",
   "id": "db916c4f-da8c-435a-81ed-e3ecbf6e42e1",
   "metadata": {},
   "source": [
    "<span style=\"font-size: x-large;\">**ノック6：データ換算をしよう**</span>"
   ]
  },
  {
   "cell_type": "code",
   "execution_count": null,
   "id": "725dc0cc-f332-4b82-9a39-2f3f82bfa00d",
   "metadata": {},
   "outputs": [],
   "source": []
  }
 ],
 "metadata": {
  "kernelspec": {
   "display_name": "Python 3 (ipykernel)",
   "language": "python",
   "name": "python3"
  },
  "language_info": {
   "codemirror_mode": {
    "name": "ipython",
    "version": 3
   },
   "file_extension": ".py",
   "mimetype": "text/x-python",
   "name": "python",
   "nbconvert_exporter": "python",
   "pygments_lexer": "ipython3",
   "version": "3.9.16"
  }
 },
 "nbformat": 4,
 "nbformat_minor": 5
}
